{
 "cells": [
  {
   "cell_type": "markdown",
   "id": "bce46436-4e26-40ce-9499-3307e739ab57",
   "metadata": {},
   "source": [
    "1)  Write a Python program that accepts a string containing a mathematical expression and a dictionary of variables. The program should evaluate the expression only using the variables in the dictionary.\n",
    " expression = \"a + b * c\"\n",
    " variables = {\"a\": 4, \"b\": 2, \"c\": 3}\n",
    " output= 10"
   ]
  },
  {
   "cell_type": "code",
   "execution_count": 20,
   "id": "08d5429f-f522-4677-8998-804e90750be0",
   "metadata": {},
   "outputs": [
    {
     "name": "stdin",
     "output_type": "stream",
     "text": [
      "Enter a expression:  a + b * c\n"
     ]
    },
    {
     "name": "stdout",
     "output_type": "stream",
     "text": [
      "Evaluation of expression:  10\n"
     ]
    }
   ],
   "source": [
    "exp = input(\"Enter a expression: \")\n",
    "dictionary =  {\"a\": 4, \"b\": 2, \"c\": 3}\n",
    "result =eval(exp,dictionary)\n",
    "print(\"Evaluation of expression: \",result)"
   ]
  },
  {
   "cell_type": "markdown",
   "id": "ba9364af-ce58-4b66-9b4f-b76a9b7f81f2",
   "metadata": {},
   "source": [
    "2. Problem Statement: Write a Python program that takes a JSON string representing an inventory of items and evaluates a conditional expression. The expression will check whether certain items' quantities are above a threshold and calculate the result accordingly."
   ]
  },
  {
   "cell_type": "code",
   "execution_count": 50,
   "id": "66b41eff-45fe-48f9-a51f-07dfc3ab5d65",
   "metadata": {},
   "outputs": [
    {
     "name": "stdout",
     "output_type": "stream",
     "text": [
      "50\n"
     ]
    }
   ],
   "source": [
    "json_input = {\n",
    "  \"item1\": 50,\n",
    "  \"item2\": 30,\n",
    "  \"item3\": 100\n",
    "}\n",
    "\n",
    "Exp = \"item1 if item1 > 40 else item2\"\n",
    "result = eval(Exp,json_input)\n",
    "print(result)\n"
   ]
  },
  {
   "cell_type": "markdown",
   "id": "dbd58939-a3dc-4d40-9427-62893f04f6a7",
   "metadata": {},
   "source": [
    "3) You are given a list of dictionaries where each dictionary represents a product with its name and price. Write a program that:\n",
    "\n",
    "Creates a lambda function to apply a discount of 10% to the price of each product.\n",
    "Use eval() to evaluate an expression that applies this lambda function to the product list.\n",
    "Output the list of products with the updated prices after applying the discount."
   ]
  },
  {
   "cell_type": "code",
   "execution_count": 99,
   "id": "e84ca55d-b5c2-4606-a292-ff9efdc38547",
   "metadata": {},
   "outputs": [
    {
     "name": "stdout",
     "output_type": "stream",
     "text": [
      "[{'name': 'apple', 'price': 27.0}, {'name': 'banana', 'price': 18.0}, {'name': 'cherry', 'price': 45.0}]\n"
     ]
    }
   ],
   "source": [
    "json =[\n",
    "    {\"name\": \"apple\", \"price\": 30},\n",
    "    {\"name\": \"banana\", \"price\": 20},\n",
    "    {\"name\": \"cherry\", \"price\": 50}\n",
    "]\n",
    "\n",
    "Exp =  \"list(map(lambda x: {'name': x['name'], 'price': round(x['price'] * 0.9, 2)}, json))\"\n",
    "\n",
    "result = eval(Exp)\n",
    "print(result)"
   ]
  },
  {
   "cell_type": "markdown",
   "id": "9a37304d-7c73-4cc3-9c37-79b03589ff1e",
   "metadata": {},
   "source": [
    "4) Objective: You are given a Python class with a method that needs to be updated dynamically (i.e., monkey patched) to alter its behavior. Write a Python program that demonstrates how to use monkey patching to change the method of a class at runtime.\n",
    "\n",
    "Problem Statement:\n",
    "You have a Car class with a method start_engine() that prints a simple message: \"Engine started!\". Your task is to:\n",
    "\n",
    "Dynamically modify the start_engine() method to print \"Engine started with a roar!\" instead of the original message.\n",
    "Use monkey patching to change the behavior of start_engine() at runtime."
   ]
  },
  {
   "cell_type": "code",
   "execution_count": 110,
   "id": "0ced9fd9-a9b7-4908-b3b2-2378ade08bdd",
   "metadata": {},
   "outputs": [
    {
     "name": "stdout",
     "output_type": "stream",
     "text": [
      "Engine started!\n",
      "Engine started with a roar!\n"
     ]
    }
   ],
   "source": [
    "class Car:\n",
    "    def start_engine(self):\n",
    "        print(\"Engine started!\")\n",
    "        \n",
    "# Before patching\n",
    "car = Car()\n",
    "car.start_engine()\n",
    "\n",
    "def new_start_engine(self):\n",
    "    print(\"Engine started with a roar!\")\n",
    "    \n",
    "# Output: Engine started!\n",
    "Car.start_engine = new_start_engine\n",
    "# After patching\n",
    "car.start_engine()\n",
    "# Output: Engine started with a roar!"
   ]
  },
  {
   "cell_type": "code",
   "execution_count": null,
   "id": "d974cb02-f0d4-43f1-a56e-e1e35f026407",
   "metadata": {},
   "outputs": [],
   "source": []
  }
 ],
 "metadata": {
  "kernelspec": {
   "display_name": "Python 3 (ipykernel)",
   "language": "python",
   "name": "python3"
  },
  "language_info": {
   "codemirror_mode": {
    "name": "ipython",
    "version": 3
   },
   "file_extension": ".py",
   "mimetype": "text/x-python",
   "name": "python",
   "nbconvert_exporter": "python",
   "pygments_lexer": "ipython3",
   "version": "3.12.4"
  }
 },
 "nbformat": 4,
 "nbformat_minor": 5
}
